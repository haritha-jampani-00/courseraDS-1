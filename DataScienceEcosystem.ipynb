{
 "cells": [
  {
   "cell_type": "markdown",
   "id": "4a992407-3a23-4a71-86ba-37badb1e056e",
   "metadata": {},
   "source": [
    "# Data Science Tools and Ecosystem"
   ]
  },
  {
   "cell_type": "markdown",
   "id": "5873ebf0-49ec-4839-a3e0-5b2e34096e9c",
   "metadata": {},
   "source": [
    "#### In this notebook, Data Science Tools and Ecosystem are summarized."
   ]
  },
  {
   "cell_type": "markdown",
   "id": "5b3588f7-f4a9-4c48-87da-14a50b52f352",
   "metadata": {},
   "source": [
    "#### Some of the popular languages that Data Scientists use are:\n",
    "1. Python\n",
    "2. R\n",
    "3. SQL"
   ]
  },
  {
   "cell_type": "markdown",
   "id": "aa74bf2b-07bb-4e2c-a8d8-9f254f16c04d",
   "metadata": {},
   "source": [
    "#### Some of the commonly used libraries used by Data Scientists include:\n",
    "1. pandas\n",
    "2. dplyr\n",
    "3. caret"
   ]
  },
  {
   "cell_type": "markdown",
   "id": "f2074ac2-8980-4880-bdd2-45e678aa9fbb",
   "metadata": {},
   "source": [
    "| Data Science Tools|\n",
    "|-------------------|\n",
    "|jupyter|\n",
    "|Gitlab|\n",
    "|Anaconda|"
   ]
  },
  {
   "cell_type": "markdown",
   "id": "dbec8998-7b01-46a6-a9ca-705ee7deffe7",
   "metadata": {},
   "source": [
    "### Below are a few examples of evaluating arithmetic expressions in Python"
   ]
  },
  {
   "cell_type": "markdown",
   "id": "73325765-74aa-42e3-bcf1-d653c71c5fff",
   "metadata": {},
   "source": [
    "#### This a simple arithmetic expression to mutiply then add integers"
   ]
  },
  {
   "cell_type": "code",
   "execution_count": 7,
   "id": "5c0465d7-d22b-44f7-b02a-77da4163a0d2",
   "metadata": {},
   "outputs": [
    {
     "data": {
      "text/plain": [
       "17"
      ]
     },
     "execution_count": 7,
     "metadata": {},
     "output_type": "execute_result"
    }
   ],
   "source": [
    "(3*4)+5"
   ]
  },
  {
   "cell_type": "code",
   "execution_count": 8,
   "id": "58ff34c3-37c1-4b57-a140-1478ce14bbe9",
   "metadata": {},
   "outputs": [
    {
     "data": {
      "text/plain": [
       "3.3333333333333335"
      ]
     },
     "execution_count": 8,
     "metadata": {},
     "output_type": "execute_result"
    }
   ],
   "source": [
    "200/60"
   ]
  },
  {
   "cell_type": "markdown",
   "id": "66018d3f-f912-4262-9c4c-52324cb5accb",
   "metadata": {},
   "source": [
    "#### This will convert 200 minutes to hours by diving by 60"
   ]
  },
  {
   "cell_type": "markdown",
   "id": "ed36d826-37d4-49db-aa42-17dcf6a6fcbc",
   "metadata": {},
   "source": [
    "**Objectives:**"
   ]
  },
  {
   "cell_type": "markdown",
   "id": "60349438-1a7e-4d0a-af35-cbe6f0669ecc",
   "metadata": {},
   "source": [
    "- Languages used by data scientits\n",
    "- tools\n",
    "- libraries\n",
    "- intro to those tools"
   ]
  },
  {
   "cell_type": "markdown",
   "id": "9e10cfd7-acd9-4e41-b250-ffad2220dd04",
   "metadata": {},
   "source": [
    "## Author"
   ]
  },
  {
   "cell_type": "code",
   "execution_count": null,
   "id": "7e335917-19fa-410d-9610-74f493c27dc7",
   "metadata": {},
   "outputs": [],
   "source": [
    "## Haritha Jampani"
   ]
  }
 ],
 "metadata": {
  "kernelspec": {
   "display_name": "Python 3 (ipykernel)",
   "language": "python",
   "name": "python3"
  },
  "language_info": {
   "codemirror_mode": {
    "name": "ipython",
    "version": 3
   },
   "file_extension": ".py",
   "mimetype": "text/x-python",
   "name": "python",
   "nbconvert_exporter": "python",
   "pygments_lexer": "ipython3",
   "version": "3.11.9"
  }
 },
 "nbformat": 4,
 "nbformat_minor": 5
}
